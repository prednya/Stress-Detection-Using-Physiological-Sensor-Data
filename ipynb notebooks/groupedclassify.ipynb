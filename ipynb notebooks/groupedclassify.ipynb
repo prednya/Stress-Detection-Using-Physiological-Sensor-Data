{
 "cells": [
  {
   "cell_type": "code",
   "execution_count": 1,
   "metadata": {},
   "outputs": [],
   "source": [
    "import pandas as pd\n",
    "from sklearn.ensemble import RandomForestClassifier\n",
    "from sklearn.linear_model import LogisticRegression\n",
    "from sklearn.model_selection import train_test_split\n",
    "from sklearn.metrics import accuracy_score, precision_score, recall_score, f1_score,confusion_matrix\n",
    "from sklearn.model_selection import cross_val_predict\n",
    "from sklearn.svm import SVC\n",
    "from imblearn.over_sampling import SMOTE"
   ]
  },
  {
   "cell_type": "code",
   "execution_count": 2,
   "metadata": {},
   "outputs": [
    {
     "data": {
      "text/html": [
       "<div>\n",
       "<style scoped>\n",
       "    .dataframe tbody tr th:only-of-type {\n",
       "        vertical-align: middle;\n",
       "    }\n",
       "\n",
       "    .dataframe tbody tr th {\n",
       "        vertical-align: top;\n",
       "    }\n",
       "\n",
       "    .dataframe thead th {\n",
       "        text-align: right;\n",
       "    }\n",
       "</style>\n",
       "<table border=\"1\" class=\"dataframe\">\n",
       "  <thead>\n",
       "    <tr style=\"text-align: right;\">\n",
       "      <th></th>\n",
       "      <th>ACC_x</th>\n",
       "      <th>ACC_y</th>\n",
       "      <th>ACC_z</th>\n",
       "      <th>EDA</th>\n",
       "      <th>BVP</th>\n",
       "      <th>TEMP</th>\n",
       "      <th>label</th>\n",
       "    </tr>\n",
       "  </thead>\n",
       "  <tbody>\n",
       "    <tr>\n",
       "      <th>0</th>\n",
       "      <td>1.074802</td>\n",
       "      <td>0.773372</td>\n",
       "      <td>0.288853</td>\n",
       "      <td>0.226233</td>\n",
       "      <td>-1.728130</td>\n",
       "      <td>1.983414</td>\n",
       "      <td>0</td>\n",
       "    </tr>\n",
       "    <tr>\n",
       "      <th>1</th>\n",
       "      <td>0.861713</td>\n",
       "      <td>-1.121982</td>\n",
       "      <td>1.051250</td>\n",
       "      <td>0.221820</td>\n",
       "      <td>1.451251</td>\n",
       "      <td>1.983414</td>\n",
       "      <td>0</td>\n",
       "    </tr>\n",
       "    <tr>\n",
       "      <th>2</th>\n",
       "      <td>0.733860</td>\n",
       "      <td>-0.648144</td>\n",
       "      <td>0.587183</td>\n",
       "      <td>0.208582</td>\n",
       "      <td>2.543450</td>\n",
       "      <td>1.983414</td>\n",
       "      <td>0</td>\n",
       "    </tr>\n",
       "    <tr>\n",
       "      <th>3</th>\n",
       "      <td>0.925640</td>\n",
       "      <td>-0.346610</td>\n",
       "      <td>0.520887</td>\n",
       "      <td>0.169752</td>\n",
       "      <td>-1.990020</td>\n",
       "      <td>1.983414</td>\n",
       "      <td>0</td>\n",
       "    </tr>\n",
       "    <tr>\n",
       "      <th>4</th>\n",
       "      <td>0.563389</td>\n",
       "      <td>-0.734296</td>\n",
       "      <td>0.918659</td>\n",
       "      <td>0.153867</td>\n",
       "      <td>-1.054558</td>\n",
       "      <td>1.983414</td>\n",
       "      <td>0</td>\n",
       "    </tr>\n",
       "  </tbody>\n",
       "</table>\n",
       "</div>"
      ],
      "text/plain": [
       "      ACC_x     ACC_y     ACC_z       EDA       BVP      TEMP  label\n",
       "0  1.074802  0.773372  0.288853  0.226233 -1.728130  1.983414      0\n",
       "1  0.861713 -1.121982  1.051250  0.221820  1.451251  1.983414      0\n",
       "2  0.733860 -0.648144  0.587183  0.208582  2.543450  1.983414      0\n",
       "3  0.925640 -0.346610  0.520887  0.169752 -1.990020  1.983414      0\n",
       "4  0.563389 -0.734296  0.918659  0.153867 -1.054558  1.983414      0"
      ]
     },
     "execution_count": 2,
     "metadata": {},
     "output_type": "execute_result"
    }
   ],
   "source": [
    "df = pd.read_csv(\"processed.csv\")\n",
    "df.drop(\"Unnamed: 0\",axis=1,inplace=True)\n",
    "df.head()"
   ]
  },
  {
   "cell_type": "code",
   "execution_count": 4,
   "metadata": {},
   "outputs": [
    {
     "data": {
      "text/html": [
       "<div>\n",
       "<style scoped>\n",
       "    .dataframe tbody tr th:only-of-type {\n",
       "        vertical-align: middle;\n",
       "    }\n",
       "\n",
       "    .dataframe tbody tr th {\n",
       "        vertical-align: top;\n",
       "    }\n",
       "\n",
       "    .dataframe thead th {\n",
       "        text-align: right;\n",
       "    }\n",
       "</style>\n",
       "<table border=\"1\" class=\"dataframe\">\n",
       "  <thead>\n",
       "    <tr style=\"text-align: right;\">\n",
       "      <th></th>\n",
       "      <th>ACC_x</th>\n",
       "      <th>ACC_y</th>\n",
       "      <th>ACC_z</th>\n",
       "      <th>EDA</th>\n",
       "      <th>TEMP</th>\n",
       "      <th>label</th>\n",
       "    </tr>\n",
       "  </thead>\n",
       "  <tbody>\n",
       "    <tr>\n",
       "      <th>0</th>\n",
       "      <td>1.074802</td>\n",
       "      <td>0.773372</td>\n",
       "      <td>0.288853</td>\n",
       "      <td>0.226233</td>\n",
       "      <td>1.983414</td>\n",
       "      <td>0</td>\n",
       "    </tr>\n",
       "    <tr>\n",
       "      <th>1</th>\n",
       "      <td>0.861713</td>\n",
       "      <td>-1.121982</td>\n",
       "      <td>1.051250</td>\n",
       "      <td>0.221820</td>\n",
       "      <td>1.983414</td>\n",
       "      <td>0</td>\n",
       "    </tr>\n",
       "    <tr>\n",
       "      <th>2</th>\n",
       "      <td>0.733860</td>\n",
       "      <td>-0.648144</td>\n",
       "      <td>0.587183</td>\n",
       "      <td>0.208582</td>\n",
       "      <td>1.983414</td>\n",
       "      <td>0</td>\n",
       "    </tr>\n",
       "    <tr>\n",
       "      <th>3</th>\n",
       "      <td>0.925640</td>\n",
       "      <td>-0.346610</td>\n",
       "      <td>0.520887</td>\n",
       "      <td>0.169752</td>\n",
       "      <td>1.983414</td>\n",
       "      <td>0</td>\n",
       "    </tr>\n",
       "    <tr>\n",
       "      <th>4</th>\n",
       "      <td>0.563389</td>\n",
       "      <td>-0.734296</td>\n",
       "      <td>0.918659</td>\n",
       "      <td>0.153867</td>\n",
       "      <td>1.983414</td>\n",
       "      <td>0</td>\n",
       "    </tr>\n",
       "  </tbody>\n",
       "</table>\n",
       "</div>"
      ],
      "text/plain": [
       "      ACC_x     ACC_y     ACC_z       EDA      TEMP  label\n",
       "0  1.074802  0.773372  0.288853  0.226233  1.983414      0\n",
       "1  0.861713 -1.121982  1.051250  0.221820  1.983414      0\n",
       "2  0.733860 -0.648144  0.587183  0.208582  1.983414      0\n",
       "3  0.925640 -0.346610  0.520887  0.169752  1.983414      0\n",
       "4  0.563389 -0.734296  0.918659  0.153867  1.983414      0"
      ]
     },
     "execution_count": 4,
     "metadata": {},
     "output_type": "execute_result"
    }
   ],
   "source": [
    "df.drop([\"BVP\"],axis=1).head()"
   ]
  },
  {
   "cell_type": "code",
   "execution_count": 14,
   "metadata": {},
   "outputs": [
    {
     "data": {
      "text/html": [
       "<div>\n",
       "<style scoped>\n",
       "    .dataframe tbody tr th:only-of-type {\n",
       "        vertical-align: middle;\n",
       "    }\n",
       "\n",
       "    .dataframe tbody tr th {\n",
       "        vertical-align: top;\n",
       "    }\n",
       "\n",
       "    .dataframe thead th {\n",
       "        text-align: right;\n",
       "    }\n",
       "</style>\n",
       "<table border=\"1\" class=\"dataframe\">\n",
       "  <thead>\n",
       "    <tr style=\"text-align: right;\">\n",
       "      <th></th>\n",
       "      <th>ACC_x</th>\n",
       "      <th>ACC_y</th>\n",
       "      <th>ACC_z</th>\n",
       "      <th>EDA</th>\n",
       "      <th>BVP</th>\n",
       "      <th>TEMP</th>\n",
       "      <th>label</th>\n",
       "    </tr>\n",
       "  </thead>\n",
       "  <tbody>\n",
       "    <tr>\n",
       "      <th>count</th>\n",
       "      <td>1.422710e+05</td>\n",
       "      <td>1.422710e+05</td>\n",
       "      <td>1.422710e+05</td>\n",
       "      <td>1.422710e+05</td>\n",
       "      <td>1.422710e+05</td>\n",
       "      <td>1.422710e+05</td>\n",
       "      <td>142271.000000</td>\n",
       "    </tr>\n",
       "    <tr>\n",
       "      <th>mean</th>\n",
       "      <td>7.031961e-17</td>\n",
       "      <td>-1.438356e-17</td>\n",
       "      <td>5.273971e-17</td>\n",
       "      <td>-1.550228e-16</td>\n",
       "      <td>-3.755707e-17</td>\n",
       "      <td>2.887899e-15</td>\n",
       "      <td>1.350711</td>\n",
       "    </tr>\n",
       "    <tr>\n",
       "      <th>std</th>\n",
       "      <td>1.000004e+00</td>\n",
       "      <td>1.000004e+00</td>\n",
       "      <td>1.000004e+00</td>\n",
       "      <td>1.000004e+00</td>\n",
       "      <td>1.000004e+00</td>\n",
       "      <td>1.000004e+00</td>\n",
       "      <td>1.290630</td>\n",
       "    </tr>\n",
       "    <tr>\n",
       "      <th>min</th>\n",
       "      <td>-3.037811e+00</td>\n",
       "      <td>-2.543497e+00</td>\n",
       "      <td>-2.727586e+00</td>\n",
       "      <td>-8.523047e-01</td>\n",
       "      <td>-2.813386e+00</td>\n",
       "      <td>-2.290009e+00</td>\n",
       "      <td>0.000000</td>\n",
       "    </tr>\n",
       "    <tr>\n",
       "      <th>25%</th>\n",
       "      <td>-1.162630e+00</td>\n",
       "      <td>-5.619913e-01</td>\n",
       "      <td>-6.724293e-01</td>\n",
       "      <td>-6.920327e-01</td>\n",
       "      <td>-5.679787e-01</td>\n",
       "      <td>-7.235052e-01</td>\n",
       "      <td>0.000000</td>\n",
       "    </tr>\n",
       "    <tr>\n",
       "      <th>50%</th>\n",
       "      <td>4.568444e-01</td>\n",
       "      <td>1.272282e-01</td>\n",
       "      <td>8.996735e-02</td>\n",
       "      <td>-5.237478e-01</td>\n",
       "      <td>5.797745e-02</td>\n",
       "      <td>1.662691e-01</td>\n",
       "      <td>1.000000</td>\n",
       "    </tr>\n",
       "    <tr>\n",
       "      <th>75%</th>\n",
       "      <td>8.830218e-01</td>\n",
       "      <td>6.010666e-01</td>\n",
       "      <td>7.860687e-01</td>\n",
       "      <td>3.022151e-01</td>\n",
       "      <td>5.837409e-01</td>\n",
       "      <td>7.051466e-01</td>\n",
       "      <td>3.000000</td>\n",
       "    </tr>\n",
       "    <tr>\n",
       "      <th>max</th>\n",
       "      <td>2.395952e+00</td>\n",
       "      <td>2.625649e+00</td>\n",
       "      <td>2.741782e+00</td>\n",
       "      <td>3.085749e+00</td>\n",
       "      <td>2.763179e+00</td>\n",
       "      <td>2.083670e+00</td>\n",
       "      <td>3.000000</td>\n",
       "    </tr>\n",
       "  </tbody>\n",
       "</table>\n",
       "</div>"
      ],
      "text/plain": [
       "              ACC_x         ACC_y         ACC_z           EDA           BVP  \\\n",
       "count  1.422710e+05  1.422710e+05  1.422710e+05  1.422710e+05  1.422710e+05   \n",
       "mean   7.031961e-17 -1.438356e-17  5.273971e-17 -1.550228e-16 -3.755707e-17   \n",
       "std    1.000004e+00  1.000004e+00  1.000004e+00  1.000004e+00  1.000004e+00   \n",
       "min   -3.037811e+00 -2.543497e+00 -2.727586e+00 -8.523047e-01 -2.813386e+00   \n",
       "25%   -1.162630e+00 -5.619913e-01 -6.724293e-01 -6.920327e-01 -5.679787e-01   \n",
       "50%    4.568444e-01  1.272282e-01  8.996735e-02 -5.237478e-01  5.797745e-02   \n",
       "75%    8.830218e-01  6.010666e-01  7.860687e-01  3.022151e-01  5.837409e-01   \n",
       "max    2.395952e+00  2.625649e+00  2.741782e+00  3.085749e+00  2.763179e+00   \n",
       "\n",
       "               TEMP          label  \n",
       "count  1.422710e+05  142271.000000  \n",
       "mean   2.887899e-15       1.350711  \n",
       "std    1.000004e+00       1.290630  \n",
       "min   -2.290009e+00       0.000000  \n",
       "25%   -7.235052e-01       0.000000  \n",
       "50%    1.662691e-01       1.000000  \n",
       "75%    7.051466e-01       3.000000  \n",
       "max    2.083670e+00       3.000000  "
      ]
     },
     "execution_count": 14,
     "metadata": {},
     "output_type": "execute_result"
    }
   ],
   "source": [
    "df.describe()"
   ]
  },
  {
   "cell_type": "code",
   "execution_count": 3,
   "metadata": {},
   "outputs": [
    {
     "data": {
      "text/plain": [
       "0    57551\n",
       "3    44742\n",
       "1    22015\n",
       "2    17963\n",
       "Name: label, dtype: int64"
      ]
     },
     "execution_count": 3,
     "metadata": {},
     "output_type": "execute_result"
    }
   ],
   "source": [
    "df.label.value_counts()"
   ]
  },
  {
   "cell_type": "code",
   "execution_count": 4,
   "metadata": {},
   "outputs": [],
   "source": [
    "def train (model,X,y,flag,sample=False):\n",
    "    if sample ==True:\n",
    "        X_train,X_test,y_train,y_test = train_test_split(X,y,train_size=0.4)\n",
    "    else:\n",
    "        X_train,X_test,y_train,y_test = train_test_split(X,y,train_size=0.7)\n",
    "    model.fit(X_train,y_train)\n",
    "    if flag==\"test\":\n",
    "        y_pred = cross_val_predict(model, X_test, y_test, cv=5)\n",
    "        \n",
    "        # Calculate metrics\n",
    "        accuracy = accuracy_score(y_test,y_pred)\n",
    "        precision = precision_score(y_test, y_pred,average='weighted')\n",
    "        recall = recall_score(y_test, y_pred,average='weighted')\n",
    "        f1 = f1_score(y_test, y_pred,average='weighted')\n",
    "        conf_matrix = confusion_matrix(y_test, y_pred)\n",
    "    else:\n",
    "        y_pred = cross_val_predict(model, X_train, y_train, cv=5)\n",
    "        # Calculate metrics\n",
    "        accuracy = accuracy_score(y_train,y_pred)\n",
    "        precision = precision_score(y_train, y_pred,average='weighted')\n",
    "        recall = recall_score(y_train, y_pred,average='weighted')\n",
    "        f1 = f1_score(y_train, y_pred,average='weighted')\n",
    "        conf_matrix = confusion_matrix(y_train, y_pred)\n",
    "    \n",
    "    return accuracy, precision, recall, f1, conf_matrix"
   ]
  },
  {
   "attachments": {},
   "cell_type": "markdown",
   "metadata": {},
   "source": [
    "## Stress vs Non Stress"
   ]
  },
  {
   "cell_type": "code",
   "execution_count": 5,
   "metadata": {},
   "outputs": [
    {
     "data": {
      "text/plain": [
       "0    120256\n",
       "1     22015\n",
       "Name: label, dtype: int64"
      ]
     },
     "execution_count": 5,
     "metadata": {},
     "output_type": "execute_result"
    }
   ],
   "source": [
    "dfs = df.copy()\n",
    "label_mapping = {0: 0, 1: 1, 2: 0, 3: 0}\n",
    "dfs['label'] = dfs['label'].replace(label_mapping)\n",
    "dfs.label.value_counts()"
   ]
  },
  {
   "cell_type": "code",
   "execution_count": 6,
   "metadata": {},
   "outputs": [],
   "source": [
    "Xs = dfs.drop(['label'],axis=1)\n",
    "ys = dfs['label']"
   ]
  },
  {
   "cell_type": "code",
   "execution_count": 7,
   "metadata": {},
   "outputs": [],
   "source": [
    "\n",
    "smote = SMOTE(random_state=42)\n",
    "X_smote, y_smote = smote.fit_resample(dfs[['ACC_x', 'ACC_y', 'ACC_z', 'EDA', 'BVP', 'TEMP']], dfs['label'])"
   ]
  },
  {
   "cell_type": "code",
   "execution_count": 8,
   "metadata": {},
   "outputs": [
    {
     "data": {
      "text/plain": [
       "0    120256\n",
       "1    120256\n",
       "Name: label, dtype: int64"
      ]
     },
     "execution_count": 8,
     "metadata": {},
     "output_type": "execute_result"
    }
   ],
   "source": [
    "y_smote.value_counts()"
   ]
  },
  {
   "cell_type": "code",
   "execution_count": 13,
   "metadata": {},
   "outputs": [
    {
     "data": {
      "text/plain": [
       "(0.667974055492419, 0.6687675868882941, 0.667974055492419, 0.667622974001774)"
      ]
     },
     "execution_count": 13,
     "metadata": {},
     "output_type": "execute_result"
    }
   ],
   "source": [
    "rfa,rfp,rfr,rff1,rfc = train(LogisticRegression(),X_smote,y_smote,\"test\")\n",
    "rfa,rfp,rfr,rff1"
   ]
  },
  {
   "cell_type": "code",
   "execution_count": null,
   "metadata": {},
   "outputs": [],
   "source": [
    "rfa,rfp,rfr,rff1,rfc = train(RandomForestClassifier(),X_smote,y_smote,\"test\")"
   ]
  },
  {
   "cell_type": "code",
   "execution_count": null,
   "metadata": {},
   "outputs": [
    {
     "data": {
      "text/plain": [
       "(0.9990852897968234, 0.999085365249107, 0.9990852897968234, 0.9990852899099718)"
      ]
     },
     "execution_count": 53,
     "metadata": {},
     "output_type": "execute_result"
    }
   ],
   "source": [
    "rfa,rfp,rfr,rff1"
   ]
  },
  {
   "cell_type": "code",
   "execution_count": 54,
   "metadata": {},
   "outputs": [
    {
     "data": {
      "text/plain": [
       "array([[36067,    40],\n",
       "       [   26, 36021]], dtype=int64)"
      ]
     },
     "execution_count": 54,
     "metadata": {},
     "output_type": "execute_result"
    }
   ],
   "source": [
    "rfc"
   ]
  },
  {
   "cell_type": "code",
   "execution_count": 55,
   "metadata": {},
   "outputs": [],
   "source": [
    "rfa,rfp,rfr,rff1,rfc = train(RandomForestClassifier(),X_smote,y_smote,\"train\")"
   ]
  },
  {
   "cell_type": "code",
   "execution_count": 56,
   "metadata": {},
   "outputs": [
    {
     "data": {
      "text/plain": [
       "(0.9995545207236959,\n",
       " 0.9995545718452375,\n",
       " 0.9995545207236959,\n",
       " 0.999554520576446,\n",
       " array([[83968,    51],\n",
       "        [   24, 84315]], dtype=int64))"
      ]
     },
     "execution_count": 56,
     "metadata": {},
     "output_type": "execute_result"
    }
   ],
   "source": [
    "rfa,rfp,rfr,rff1,rfc"
   ]
  },
  {
   "attachments": {},
   "cell_type": "markdown",
   "metadata": {},
   "source": [
    "## Stress vs Amusment vs Non Stress"
   ]
  },
  {
   "cell_type": "code",
   "execution_count": 5,
   "metadata": {},
   "outputs": [
    {
     "data": {
      "text/plain": [
       "0    102293\n",
       "1     22015\n",
       "2     17963\n",
       "Name: label, dtype: int64"
      ]
     },
     "execution_count": 5,
     "metadata": {},
     "output_type": "execute_result"
    }
   ],
   "source": [
    "df3 = df.copy()\n",
    "label_mapping = {0: 0, 1: 1, 2: 2, 3: 0}\n",
    "df3['label'] = df3['label'].replace(label_mapping)\n",
    "df3.label.value_counts()"
   ]
  },
  {
   "cell_type": "code",
   "execution_count": 8,
   "metadata": {},
   "outputs": [],
   "source": [
    "X3 = df3.drop(['label','BVP'],axis=1)\n",
    "y3 = df3['label']\n",
    "\n",
    "smote = SMOTE(random_state=42)\n",
    "X3_smote, y3_smote = smote.fit_resample(df3[['ACC_x', 'ACC_y', 'ACC_z', 'EDA', 'TEMP']], df3['label'])"
   ]
  },
  {
   "cell_type": "code",
   "execution_count": 10,
   "metadata": {},
   "outputs": [
    {
     "data": {
      "text/plain": [
       "RandomForestClassifier()"
      ]
     },
     "execution_count": 10,
     "metadata": {},
     "output_type": "execute_result"
    }
   ],
   "source": [
    "rfmodel = RandomForestClassifier()\n",
    "X_train,X_test,y_train,y_test = train_test_split(X3_smote,y3_smote,train_size=0.7)\n",
    "rfmodel.fit(X_train,y_train)"
   ]
  },
  {
   "cell_type": "code",
   "execution_count": 12,
   "metadata": {},
   "outputs": [
    {
     "data": {
      "text/plain": [
       "0.9996089676746611"
      ]
     },
     "execution_count": 12,
     "metadata": {},
     "output_type": "execute_result"
    }
   ],
   "source": [
    "preds = rfmodel.predict(X_test)\n",
    "accuracy_score(preds,y_test)"
   ]
  },
  {
   "cell_type": "code",
   "execution_count": 13,
   "metadata": {},
   "outputs": [],
   "source": [
    "import pickle\n",
    "\n",
    "# Save the trained RF model to a file using pickle\n",
    "with open('rf_model.pkl', 'wb') as model_file:\n",
    "    pickle.dump(rfmodel, model_file)\n"
   ]
  },
  {
   "cell_type": "code",
   "execution_count": 9,
   "metadata": {},
   "outputs": [
    {
     "data": {
      "text/plain": [
       "(0.9991636253041363,\n",
       " 0.999163914479958,\n",
       " 0.9991636253041363,\n",
       " 0.9991636419877408,\n",
       " array([[30859,    19,     8],\n",
       "        [   13, 30553,     0],\n",
       "        [   19,    18, 30575]], dtype=int64))"
      ]
     },
     "execution_count": 9,
     "metadata": {},
     "output_type": "execute_result"
    }
   ],
   "source": [
    "rfa,rfp,rfr,rff1,rfc = train(RandomForestClassifier(),X3_smote,y3_smote,\"test\")\n",
    "rfa,rfp,rfr,rff1,rfc"
   ]
  },
  {
   "cell_type": "code",
   "execution_count": 60,
   "metadata": {},
   "outputs": [
    {
     "data": {
      "text/plain": [
       "(0.9993948281079068,\n",
       " 0.9993949938039443,\n",
       " 0.9993948281079068,\n",
       " 0.9993948289781769,\n",
       " array([[71611,    36,    11],\n",
       "        [   14, 71640,     1],\n",
       "        [   48,    20, 71434]], dtype=int64))"
      ]
     },
     "execution_count": 60,
     "metadata": {},
     "output_type": "execute_result"
    }
   ],
   "source": [
    "rfa,rfp,rfr,rff1,rfc = train(RandomForestClassifier(),X3_smote,y3_smote,\"train\")\n",
    "rfa,rfp,rfr,rff1,rfc"
   ]
  },
  {
   "cell_type": "code",
   "execution_count": 61,
   "metadata": {},
   "outputs": [
    {
     "data": {
      "text/plain": [
       "(0.4399113660062565,\n",
       " 0.42789106825044254,\n",
       " 0.4399113660062565,\n",
       " 0.4304166034473496,\n",
       " array([[ 9565, 11013, 10244],\n",
       "        [ 3764, 20023,  6902],\n",
       "        [12440,  7201, 10912]], dtype=int64))"
      ]
     },
     "execution_count": 61,
     "metadata": {},
     "output_type": "execute_result"
    }
   ],
   "source": [
    "rfa,rfp,rfr,rff1,rfc = train(LogisticRegression(),X3_smote,y3_smote,\"test\")\n",
    "rfa,rfp,rfr,rff1,rfc"
   ]
  },
  {
   "cell_type": "code",
   "execution_count": null,
   "metadata": {},
   "outputs": [],
   "source": []
  }
 ],
 "metadata": {
  "kernelspec": {
   "display_name": "Python 3",
   "language": "python",
   "name": "python3"
  },
  "language_info": {
   "codemirror_mode": {
    "name": "ipython",
    "version": 3
   },
   "file_extension": ".py",
   "mimetype": "text/x-python",
   "name": "python",
   "nbconvert_exporter": "python",
   "pygments_lexer": "ipython3",
   "version": "3.9.7"
  },
  "orig_nbformat": 4,
  "vscode": {
   "interpreter": {
    "hash": "865d8b2eb28e274047ba64063dfb6a2aabf0dfec4905d304d7a76618dae6fdd4"
   }
  }
 },
 "nbformat": 4,
 "nbformat_minor": 2
}
