{
 "cells": [
  {
   "attachments": {},
   "cell_type": "markdown",
   "metadata": {},
   "source": [
    "# PKL to CSV"
   ]
  },
  {
   "attachments": {},
   "cell_type": "markdown",
   "metadata": {},
   "source": [
    "## Imports"
   ]
  },
  {
   "cell_type": "code",
   "execution_count": 1,
   "metadata": {},
   "outputs": [],
   "source": [
    "import pickle as pkl\n",
    "import pandas as pd\n",
    "import numpy as np"
   ]
  },
  {
   "cell_type": "code",
   "execution_count": 3,
   "metadata": {},
   "outputs": [],
   "source": [
    "#open pickle file S2.pkl\n",
    "with open('../WESAD/S2/S2.pkl', 'rb') as f:\n",
    "    s2_data = pkl.load(f,encoding='latin1')\n"
   ]
  },
  {
   "cell_type": "code",
   "execution_count": null,
   "metadata": {},
   "outputs": [],
   "source": [
    "#convert to dataframe\n",
    "c_ax=s2_data['signal']['chest']['ACC'][0:,0]#[baseline_to_plot]\n",
    "c_ay=s2_data['signal']['chest']['ACC'][0:,1]#[baseline_to_plot]#[0:100] # hundred values\n",
    "c_az=s2_data['signal']['chest']['ACC'][0:,2]#[baseline_to_plot]\n",
    "c_ecg=s2_data['signal']['chest']['ECG'][:,0]#[baseline_to_plot]\n",
    "c_emg=s2_data['signal']['chest']['EMG'][:,0]#[baseline_to_plot]\n",
    "c_eda=s2_data['signal']['chest']['EDA'][:,0]#[baseline_to_plot]\n",
    "c_temp=s2_data['signal']['chest']['Temp'][:,0]#[baseline_to_plot]\n",
    "c_resp=s2_data['signal']['chest']['Resp'][:,0]#[baseline_to_plot]\n",
    "w_ax=s2_data['signal']['wrist']['ACC'][0:,0]#[stress_to_plot]\n",
    "w_ay=s2_data['signal']['wrist']['ACC'][0:,1]#[stress_to_plot]\n",
    "w_az=s2_data['signal']['wrist']['ACC'][0:,2]#[stress_to_plot]\n",
    "w_bvp=s2_data['signal']['wrist']['BVP'][:,0]#[stress_to_plot]\n",
    "w_eda=s2_data['signal']['wrist']['EDA'][:,0]#[stress_to_plot]\n",
    "w_temp=s2_data['signal']['wrist']['TEMP'][:,0]#[stress_to_plot]\n",
    "w_label=s2_data['label']\n",
    "\n",
    "print(\"Equated\")"
   ]
  },
  {
   "cell_type": "code",
   "execution_count": 3,
   "metadata": {},
   "outputs": [],
   "source": [
    "# numpy_data1 = np.array([w_ax,w_ay,w_az,w_bvp,w_eda,w_temp])\n",
    "# numpy_data1=numpy_data1.T\n",
    "numpy_data1=np.array([c_ax, c_ay, c_az,c_ecg,c_emg,c_eda,c_temp,c_resp,w_label])\n",
    "numpy_data1=numpy_data1.T\n",
    "# df = pd.DataFrame(data=numpy_data1, columns=[\"w_ax\",\"w_ay\",\"w_az\",\"w_bvp\",\"w_eda\",\"w_temp\"]) \n",
    "df = pd.DataFrame(data=numpy_data1, columns=[\"c_ax\", \"c_ay\", \"c_az\",\"c_ecg\",\"c_emg\",\"c_eda\",\"c_temp\",\"c_resp\",\"w_label\"]) \n"
   ]
  },
  {
   "cell_type": "code",
   "execution_count": 4,
   "metadata": {},
   "outputs": [
    {
     "data": {
      "text/html": [
       "<div>\n",
       "<style scoped>\n",
       "    .dataframe tbody tr th:only-of-type {\n",
       "        vertical-align: middle;\n",
       "    }\n",
       "\n",
       "    .dataframe tbody tr th {\n",
       "        vertical-align: top;\n",
       "    }\n",
       "\n",
       "    .dataframe thead th {\n",
       "        text-align: right;\n",
       "    }\n",
       "</style>\n",
       "<table border=\"1\" class=\"dataframe\">\n",
       "  <thead>\n",
       "    <tr style=\"text-align: right;\">\n",
       "      <th></th>\n",
       "      <th>c_ax</th>\n",
       "      <th>c_ay</th>\n",
       "      <th>c_az</th>\n",
       "      <th>c_ecg</th>\n",
       "      <th>c_emg</th>\n",
       "      <th>c_eda</th>\n",
       "      <th>c_temp</th>\n",
       "      <th>c_resp</th>\n",
       "      <th>w_label</th>\n",
       "    </tr>\n",
       "  </thead>\n",
       "  <tbody>\n",
       "    <tr>\n",
       "      <th>0</th>\n",
       "      <td>0.9554</td>\n",
       "      <td>-0.2220</td>\n",
       "      <td>-0.5580</td>\n",
       "      <td>0.021423</td>\n",
       "      <td>-0.004440</td>\n",
       "      <td>5.250549</td>\n",
       "      <td>30.120758</td>\n",
       "      <td>-1.148987</td>\n",
       "      <td>0.0</td>\n",
       "    </tr>\n",
       "    <tr>\n",
       "      <th>1</th>\n",
       "      <td>0.9258</td>\n",
       "      <td>-0.2216</td>\n",
       "      <td>-0.5538</td>\n",
       "      <td>0.020325</td>\n",
       "      <td>0.004349</td>\n",
       "      <td>5.267334</td>\n",
       "      <td>30.129517</td>\n",
       "      <td>-1.124573</td>\n",
       "      <td>0.0</td>\n",
       "    </tr>\n",
       "    <tr>\n",
       "      <th>2</th>\n",
       "      <td>0.9082</td>\n",
       "      <td>-0.2196</td>\n",
       "      <td>-0.5392</td>\n",
       "      <td>0.016525</td>\n",
       "      <td>0.005173</td>\n",
       "      <td>5.243301</td>\n",
       "      <td>30.138214</td>\n",
       "      <td>-1.152039</td>\n",
       "      <td>0.0</td>\n",
       "    </tr>\n",
       "    <tr>\n",
       "      <th>3</th>\n",
       "      <td>0.8974</td>\n",
       "      <td>-0.2102</td>\n",
       "      <td>-0.5122</td>\n",
       "      <td>0.016708</td>\n",
       "      <td>0.007187</td>\n",
       "      <td>5.249405</td>\n",
       "      <td>30.129517</td>\n",
       "      <td>-1.158142</td>\n",
       "      <td>0.0</td>\n",
       "    </tr>\n",
       "    <tr>\n",
       "      <th>4</th>\n",
       "      <td>0.8882</td>\n",
       "      <td>-0.2036</td>\n",
       "      <td>-0.4824</td>\n",
       "      <td>0.011673</td>\n",
       "      <td>-0.015152</td>\n",
       "      <td>5.286407</td>\n",
       "      <td>30.130951</td>\n",
       "      <td>-1.161194</td>\n",
       "      <td>0.0</td>\n",
       "    </tr>\n",
       "  </tbody>\n",
       "</table>\n",
       "</div>"
      ],
      "text/plain": [
       "     c_ax    c_ay    c_az     c_ecg     c_emg     c_eda     c_temp    c_resp  \\\n",
       "0  0.9554 -0.2220 -0.5580  0.021423 -0.004440  5.250549  30.120758 -1.148987   \n",
       "1  0.9258 -0.2216 -0.5538  0.020325  0.004349  5.267334  30.129517 -1.124573   \n",
       "2  0.9082 -0.2196 -0.5392  0.016525  0.005173  5.243301  30.138214 -1.152039   \n",
       "3  0.8974 -0.2102 -0.5122  0.016708  0.007187  5.249405  30.129517 -1.158142   \n",
       "4  0.8882 -0.2036 -0.4824  0.011673 -0.015152  5.286407  30.130951 -1.161194   \n",
       "\n",
       "   w_label  \n",
       "0      0.0  \n",
       "1      0.0  \n",
       "2      0.0  \n",
       "3      0.0  \n",
       "4      0.0  "
      ]
     },
     "execution_count": 4,
     "metadata": {},
     "output_type": "execute_result"
    }
   ],
   "source": [
    "df.head()"
   ]
  },
  {
   "cell_type": "code",
   "execution_count": 5,
   "metadata": {},
   "outputs": [
    {
     "name": "stdout",
     "output_type": "stream",
     "text": [
      "194528\n",
      "194528\n",
      "194528\n",
      "389056\n",
      "24316\n",
      "24316\n",
      "4255300\n"
     ]
    }
   ],
   "source": [
    "for i in [w_ax,w_ay,w_az,w_bvp,w_eda,w_temp,w_label]:\n",
    "    print(len(i))"
   ]
  },
  {
   "cell_type": "code",
   "execution_count": 6,
   "metadata": {},
   "outputs": [
    {
     "data": {
      "text/plain": [
       "(251971, 3)"
      ]
     },
     "execution_count": 6,
     "metadata": {},
     "output_type": "execute_result"
    }
   ],
   "source": [
    "acc_war = pd.read_csv(r\"S:\\PSG\\1sem7\\pw1\\WESAD\\S2\\S2_E4_Data\\ACC.csv\")\n",
    "acc_war.shape"
   ]
  },
  {
   "attachments": {},
   "cell_type": "markdown",
   "metadata": {},
   "source": [
    "## Exploring Dataset's Structure"
   ]
  },
  {
   "cell_type": "code",
   "execution_count": 7,
   "metadata": {},
   "outputs": [
    {
     "name": "stdout",
     "output_type": "stream",
     "text": [
      "{'s2_data': {'signal': {'chest': {'ACC': 4255300, 'ECG': 4255300, 'EMG': 4255300, 'EDA': 4255300, 'Temp': 4255300, 'Resp': 4255300}, 'wrist': {'ACC': 194528, 'BVP': 389056, 'EDA': 24316, 'TEMP': 24316}}, 'label': 4255300, 'subject': 2}}\n"
     ]
    }
   ],
   "source": [
    "structure = {\"s2_data\":{}}\n",
    "\n",
    "def dfs(dic,key,structure):\n",
    "    for i in dic:\n",
    "        if type(dic[i]) == dict:\n",
    "            structure[key][i] = {}\n",
    "            dfs(dic[i],i,structure[key])\n",
    "        else:\n",
    "            structure[key][i] = len(dic[i])\n",
    "dfs(s2_data,\"s2_data\",structure)\n",
    "print(structure)"
   ]
  },
  {
   "cell_type": "code",
   "execution_count": 8,
   "metadata": {},
   "outputs": [
    {
     "data": {
      "text/plain": [
       "{'s2_data': {'signal': {'chest': {'ACC': \"<class 'numpy.ndarray'>\",\n",
       "    'ECG': \"<class 'numpy.ndarray'>\",\n",
       "    'EMG': \"<class 'numpy.ndarray'>\",\n",
       "    'EDA': \"<class 'numpy.ndarray'>\",\n",
       "    'Temp': \"<class 'numpy.ndarray'>\",\n",
       "    'Resp': \"<class 'numpy.ndarray'>\"},\n",
       "   'wrist': {'ACC': \"<class 'numpy.ndarray'>\",\n",
       "    'BVP': \"<class 'numpy.ndarray'>\",\n",
       "    'EDA': \"<class 'numpy.ndarray'>\",\n",
       "    'TEMP': \"<class 'numpy.ndarray'>\"}},\n",
       "  'label': \"<class 'numpy.ndarray'>\",\n",
       "  'subject': \"<class 'str'>\"}}"
      ]
     },
     "execution_count": 8,
     "metadata": {},
     "output_type": "execute_result"
    }
   ],
   "source": [
    "{'s2_data': \n",
    "    {'signal': \n",
    "        {'chest': \n",
    "            {'ACC': \"<class 'numpy.ndarray'>\", \n",
    "            'ECG': \"<class 'numpy.ndarray'>\", \n",
    "            'EMG': \"<class 'numpy.ndarray'>\", \n",
    "            'EDA': \"<class 'numpy.ndarray'>\", \n",
    "            'Temp': \"<class 'numpy.ndarray'>\", \n",
    "            'Resp': \"<class 'numpy.ndarray'>\"\n",
    "            }, \n",
    "        'wrist': \n",
    "            {'ACC': \"<class 'numpy.ndarray'>\",\n",
    "            'BVP': \"<class 'numpy.ndarray'>\", \n",
    "            'EDA': \"<class 'numpy.ndarray'>\", \n",
    "            'TEMP': \"<class 'numpy.ndarray'>\"\n",
    "            }\n",
    "        }, \n",
    "    'label': \"<class 'numpy.ndarray'>\", \n",
    "    'subject': \"<class 'str'>\"\n",
    "    }\n",
    "}"
   ]
  },
  {
   "cell_type": "code",
   "execution_count": 9,
   "metadata": {},
   "outputs": [
    {
     "data": {
      "text/plain": [
       "{'s2_data': {'signal': {'chest': {'ACC': 4255300,\n",
       "    'ECG': 4255300,\n",
       "    'EMG': 4255300,\n",
       "    'EDA': 4255300,\n",
       "    'Temp': 4255300,\n",
       "    'Resp': 4255300},\n",
       "   'wrist': {'ACC': 194528, 'BVP': 389056, 'EDA': 24316, 'TEMP': 24316}},\n",
       "  'label': 4255300,\n",
       "  'subject': 2}}"
      ]
     },
     "execution_count": 9,
     "metadata": {},
     "output_type": "execute_result"
    }
   ],
   "source": [
    "{'s2_data': \n",
    "    {'signal': \n",
    "        {'chest': \n",
    "            {'ACC': 4255300, \n",
    "            'ECG': 4255300, \n",
    "            'EMG': 4255300, \n",
    "            'EDA': 4255300, \n",
    "            'Temp': 4255300, \n",
    "            'Resp': 4255300\n",
    "            }, \n",
    "        'wrist': \n",
    "            {'ACC': 194528,  \n",
    "            'BVP': 389056, \n",
    "            'EDA': 24316, \n",
    "            'TEMP': 24316\n",
    "            }\n",
    "        },\n",
    "    'label': 4255300,\n",
    "    'subject': 1\n",
    "    }\n",
    "}"
   ]
  },
  {
   "cell_type": "code",
   "execution_count": 10,
   "metadata": {},
   "outputs": [
    {
     "name": "stdout",
     "output_type": "stream",
     "text": [
      "ACC.csv   (251971, 3)\n",
      "BVP.csv   (503944, 1)\n",
      "EDA.csv   (31495, 1)\n",
      "TEMP.csv   (31497, 1)\n"
     ]
    }
   ],
   "source": [
    "path =\"S:/PSG/1sem7/pw1/WESAD/S2/S2_E4_Data/\"\n",
    "files = [\"ACC.csv\",\"BVP.csv\",\"EDA.csv\",\"TEMP.csv\"]\n",
    "for i in files:\n",
    "    df = pd.read_csv(path+i)\n",
    "    print(i, \" \" ,df.shape)"
   ]
  },
  {
   "cell_type": "code",
   "execution_count": 11,
   "metadata": {},
   "outputs": [
    {
     "name": "stdout",
     "output_type": "stream",
     "text": [
      "ACC.csv   (247153, 3)\n",
      "BVP.csv   (494308, 1)\n",
      "EDA.csv   (30895, 1)\n",
      "TEMP.csv   (30889, 1)\n"
     ]
    }
   ],
   "source": [
    "path =\"S:/PSG/1sem7/pw1/WESAD/S3/S3_E4_Data/\"\n",
    "files = [\"ACC.csv\",\"BVP.csv\",\"EDA.csv\",\"TEMP.csv\"]\n",
    "for i in files:\n",
    "    df = pd.read_csv(path+i)\n",
    "    print(i, \" \" ,df.shape)"
   ]
  },
  {
   "cell_type": "code",
   "execution_count": 13,
   "metadata": {},
   "outputs": [
    {
     "data": {
      "text/plain": [
       "array([[ 62., -21., 107.],\n",
       "       [ 66.,  13.,  53.],\n",
       "       [ 41.,   9.,  15.],\n",
       "       ...,\n",
       "       [ 41.,  25.,  11.],\n",
       "       [ 39.,  27.,  22.],\n",
       "       [ 56.,  26.,  10.]])"
      ]
     },
     "execution_count": 13,
     "metadata": {},
     "output_type": "execute_result"
    }
   ],
   "source": [
    "s2_data[\"signal\"][\"wrist\"][\"ACC\"]"
   ]
  },
  {
   "attachments": {},
   "cell_type": "markdown",
   "metadata": {},
   "source": [
    "## Code to Downsample records "
   ]
  },
  {
   "cell_type": "code",
   "execution_count": 5,
   "metadata": {},
   "outputs": [
    {
     "name": "stdout",
     "output_type": "stream",
     "text": [
      "       ACC_x  ACC_y  ACC_z     BVP       EDA   TEMP  label\n",
      "0       62.0  -21.0  107.0  -59.37  1.138257  35.41      0\n",
      "1       51.0   16.0   35.0   43.50  1.125444  35.41      0\n",
      "2       53.0   21.0   -6.0   53.56  1.011405  35.41      0\n",
      "3       55.0   17.0   34.0   54.64  1.033188  35.41      0\n",
      "4       48.0   24.0   15.0 -117.88  0.935807  35.41      0\n",
      "...      ...    ...    ...     ...       ...    ...    ...\n",
      "24311   47.0   14.0   41.0   27.06  0.063052  34.21      0\n",
      "24312   46.0   15.0   40.0   14.01  0.060489  34.23      0\n",
      "24313   49.0   15.0   41.0   -0.43  0.059208  34.23      0\n",
      "24314   46.0   17.0   36.0  -32.72  0.073303  34.23      0\n",
      "24315   56.0   23.0   38.0   15.20  0.045113  34.23      0\n",
      "\n",
      "[24316 rows x 7 columns]\n"
     ]
    }
   ],
   "source": [
    "# Define the downsampling factors\n",
    "downsampling_factors = {\n",
    "    'ACC': 32 // 4,\n",
    "    'EDA': 4 // 4,\n",
    "    'TEMP': 4 // 4,\n",
    "    'label': 700 // 4\n",
    "}\n",
    "\n",
    "# Create a DataFrame to store the downsampled data\n",
    "df = pd.DataFrame()\n",
    "\n",
    "# Downsampling\n",
    "for key, value in s2_data.items():\n",
    "    if isinstance(value, dict):\n",
    "        if 'wrist' in value:\n",
    "            wrist_data = value['wrist']\n",
    "            for param_key, param_value in wrist_data.items():\n",
    "                if param_key in downsampling_factors:\n",
    "                    # Unpack the ACC data into separate columns\n",
    "                    if param_key == 'ACC':\n",
    "                        acc_x, acc_y, acc_z = param_value.T\n",
    "                        df[f'{param_key}_x'] = acc_x[::downsampling_factors[param_key]]\n",
    "                        df[f'{param_key}_y'] = acc_y[::downsampling_factors[param_key]]\n",
    "                        df[f'{param_key}_z'] = acc_z[::downsampling_factors[param_key]]\n",
    "                    else:\n",
    "                        df[f'{param_key}'] = param_value[::downsampling_factors[param_key]]\n",
    "        else:\n",
    "            # For label and subject, directly add them to the DataFrame\n",
    "            if key == 'label':\n",
    "                df[key] = value[::downsampling_factors[key]]\n",
    "            else:\n",
    "                df[key] = value\n",
    "label = s2_data['label'][::downsampling_factors['label']]\n",
    "df['label'] = label\n",
    "# Reset the DataFrame index\n",
    "df = df.reset_index(drop=True)\n",
    "\n",
    "# Display the resulting DataFrame\n",
    "print(df)\n"
   ]
  },
  {
   "cell_type": "code",
   "execution_count": 6,
   "metadata": {},
   "outputs": [
    {
     "data": {
      "text/html": [
       "<div>\n",
       "<style scoped>\n",
       "    .dataframe tbody tr th:only-of-type {\n",
       "        vertical-align: middle;\n",
       "    }\n",
       "\n",
       "    .dataframe tbody tr th {\n",
       "        vertical-align: top;\n",
       "    }\n",
       "\n",
       "    .dataframe thead th {\n",
       "        text-align: right;\n",
       "    }\n",
       "</style>\n",
       "<table border=\"1\" class=\"dataframe\">\n",
       "  <thead>\n",
       "    <tr style=\"text-align: right;\">\n",
       "      <th></th>\n",
       "      <th>ACC_x</th>\n",
       "      <th>ACC_y</th>\n",
       "      <th>ACC_z</th>\n",
       "      <th>BVP</th>\n",
       "      <th>EDA</th>\n",
       "      <th>TEMP</th>\n",
       "      <th>label</th>\n",
       "    </tr>\n",
       "  </thead>\n",
       "  <tbody>\n",
       "    <tr>\n",
       "      <th>24311</th>\n",
       "      <td>47.0</td>\n",
       "      <td>14.0</td>\n",
       "      <td>41.0</td>\n",
       "      <td>27.06</td>\n",
       "      <td>0.063052</td>\n",
       "      <td>34.21</td>\n",
       "      <td>0</td>\n",
       "    </tr>\n",
       "    <tr>\n",
       "      <th>24312</th>\n",
       "      <td>46.0</td>\n",
       "      <td>15.0</td>\n",
       "      <td>40.0</td>\n",
       "      <td>14.01</td>\n",
       "      <td>0.060489</td>\n",
       "      <td>34.23</td>\n",
       "      <td>0</td>\n",
       "    </tr>\n",
       "    <tr>\n",
       "      <th>24313</th>\n",
       "      <td>49.0</td>\n",
       "      <td>15.0</td>\n",
       "      <td>41.0</td>\n",
       "      <td>-0.43</td>\n",
       "      <td>0.059208</td>\n",
       "      <td>34.23</td>\n",
       "      <td>0</td>\n",
       "    </tr>\n",
       "    <tr>\n",
       "      <th>24314</th>\n",
       "      <td>46.0</td>\n",
       "      <td>17.0</td>\n",
       "      <td>36.0</td>\n",
       "      <td>-32.72</td>\n",
       "      <td>0.073303</td>\n",
       "      <td>34.23</td>\n",
       "      <td>0</td>\n",
       "    </tr>\n",
       "    <tr>\n",
       "      <th>24315</th>\n",
       "      <td>56.0</td>\n",
       "      <td>23.0</td>\n",
       "      <td>38.0</td>\n",
       "      <td>15.20</td>\n",
       "      <td>0.045113</td>\n",
       "      <td>34.23</td>\n",
       "      <td>0</td>\n",
       "    </tr>\n",
       "  </tbody>\n",
       "</table>\n",
       "</div>"
      ],
      "text/plain": [
       "       ACC_x  ACC_y  ACC_z    BVP       EDA   TEMP  label\n",
       "24311   47.0   14.0   41.0  27.06  0.063052  34.21      0\n",
       "24312   46.0   15.0   40.0  14.01  0.060489  34.23      0\n",
       "24313   49.0   15.0   41.0  -0.43  0.059208  34.23      0\n",
       "24314   46.0   17.0   36.0 -32.72  0.073303  34.23      0\n",
       "24315   56.0   23.0   38.0  15.20  0.045113  34.23      0"
      ]
     },
     "execution_count": 6,
     "metadata": {},
     "output_type": "execute_result"
    }
   ],
   "source": [
    "df.tail()"
   ]
  },
  {
   "cell_type": "code",
   "execution_count": 7,
   "metadata": {},
   "outputs": [
    {
     "data": {
      "text/plain": [
       "0    0.503537\n",
       "1    0.188189\n",
       "4    0.126337\n",
       "2    0.101168\n",
       "3    0.059549\n",
       "6    0.010693\n",
       "7    0.010528\n",
       "Name: label, dtype: float64"
      ]
     },
     "execution_count": 7,
     "metadata": {},
     "output_type": "execute_result"
    }
   ],
   "source": [
    "df[\"label\"].value_counts()/len(df)"
   ]
  },
  {
   "cell_type": "code",
   "execution_count": 6,
   "metadata": {},
   "outputs": [],
   "source": [
    "df.to_csv(\"s2_processed.csv\",index=False)"
   ]
  },
  {
   "cell_type": "code",
   "execution_count": null,
   "metadata": {},
   "outputs": [],
   "source": []
  }
 ],
 "metadata": {
  "kernelspec": {
   "display_name": "Python 3",
   "language": "python",
   "name": "python3"
  },
  "language_info": {
   "codemirror_mode": {
    "name": "ipython",
    "version": 3
   },
   "file_extension": ".py",
   "mimetype": "text/x-python",
   "name": "python",
   "nbconvert_exporter": "python",
   "pygments_lexer": "ipython3",
   "version": "3.9.7"
  },
  "orig_nbformat": 4,
  "vscode": {
   "interpreter": {
    "hash": "865d8b2eb28e274047ba64063dfb6a2aabf0dfec4905d304d7a76618dae6fdd4"
   }
  }
 },
 "nbformat": 4,
 "nbformat_minor": 2
}
